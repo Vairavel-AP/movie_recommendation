{
 "cells": [
  {
   "cell_type": "code",
   "execution_count": 1,
   "id": "5b49f9bc-456b-4ad4-a353-2ca853eb1fb0",
   "metadata": {},
   "outputs": [
    {
     "name": "stdout",
     "output_type": "stream",
     "text": [
      "Requirement already satisfied: scikit-learn in c:\\users\\vaira\\appdata\\local\\programs\\python\\python313\\lib\\site-packages (1.7.0)\n",
      "Requirement already satisfied: numpy>=1.22.0 in c:\\users\\vaira\\appdata\\local\\programs\\python\\python313\\lib\\site-packages (from scikit-learn) (2.2.5)\n",
      "Requirement already satisfied: scipy>=1.8.0 in c:\\users\\vaira\\appdata\\local\\programs\\python\\python313\\lib\\site-packages (from scikit-learn) (1.16.0)\n",
      "Requirement already satisfied: joblib>=1.2.0 in c:\\users\\vaira\\appdata\\local\\programs\\python\\python313\\lib\\site-packages (from scikit-learn) (1.5.1)\n",
      "Requirement already satisfied: threadpoolctl>=3.1.0 in c:\\users\\vaira\\appdata\\local\\programs\\python\\python313\\lib\\site-packages (from scikit-learn) (3.6.0)\n"
     ]
    }
   ],
   "source": [
    "!pip install scikit-learn"
   ]
  },
  {
   "cell_type": "code",
   "execution_count": 2,
   "id": "4e532f3e-6225-47b1-80b4-a21555c91f76",
   "metadata": {},
   "outputs": [],
   "source": [
    "import pandas as pd\n",
    "import ast\n",
    "from sklearn.feature_extraction.text import CountVectorizer\n",
    "from sklearn.metrics.pairwise import cosine_similarity\n"
   ]
  },
  {
   "cell_type": "code",
   "execution_count": 3,
   "id": "8e9a0b74-2a15-4ee7-8da5-28278e3f7971",
   "metadata": {},
   "outputs": [],
   "source": [
    "file_path = 'tmdb_5000_credits.csv'  \n",
    "\n",
    "with open(file_path, 'r', encoding='utf-8') as f:\n",
    "    lines = f.readlines()\n",
    "\n",
    "cleaned_lines = [line for i, line in enumerate(lines) if i != 2215]\n",
    "\n",
    "with open('cleaned_credits.csv', 'w', encoding='utf-8') as f:\n",
    "    f.writelines(cleaned_lines)\n"
   ]
  },
  {
   "cell_type": "code",
   "execution_count": 4,
   "id": "a92be4d5-5d8e-470d-861c-d0cf774d41a9",
   "metadata": {},
   "outputs": [
    {
     "data": {
      "text/plain": [
       "((4802, 4),\n",
       "    movie_id                                     title  \\\n",
       " 0     19995                                    Avatar   \n",
       " 1       285  Pirates of the Caribbean: At World's End   \n",
       " 2    206647                                   Spectre   \n",
       " 3     49026                     The Dark Knight Rises   \n",
       " 4     49529                               John Carter   \n",
       " \n",
       "                                                 cast  \\\n",
       " 0  [{\"cast_id\": 242, \"character\": \"Jake Sully\", \"...   \n",
       " 1  [{\"cast_id\": 4, \"character\": \"Captain Jack Spa...   \n",
       " 2  [{\"cast_id\": 1, \"character\": \"James Bond\", \"cr...   \n",
       " 3  [{\"cast_id\": 2, \"character\": \"Bruce Wayne / Ba...   \n",
       " 4  [{\"cast_id\": 5, \"character\": \"John Carter\", \"c...   \n",
       " \n",
       "                                                 crew  \n",
       " 0  [{\"credit_id\": \"52fe48009251416c750aca23\", \"de...  \n",
       " 1  [{\"credit_id\": \"52fe4232c3a36847f800b579\", \"de...  \n",
       " 2  [{\"credit_id\": \"54805967c3a36829b5002c41\", \"de...  \n",
       " 3  [{\"credit_id\": \"52fe4781c3a36847f81398c3\", \"de...  \n",
       " 4  [{\"credit_id\": \"52fe479ac3a36847f813eaa3\", \"de...  )"
      ]
     },
     "execution_count": 4,
     "metadata": {},
     "output_type": "execute_result"
    }
   ],
   "source": [
    "credits = pd.read_csv('cleaned_credits.csv')\n",
    "credits.shape, credits.head()\n"
   ]
  },
  {
   "cell_type": "code",
   "execution_count": 5,
   "id": "41441bf3-7e56-43a8-aef4-16c9a8c6b1cb",
   "metadata": {},
   "outputs": [],
   "source": [
    "def get_top_cast(cast_str):\n",
    "    try:\n",
    "        cast = ast.literal_eval(cast_str)\n",
    "        names = [actor['name'] for actor in cast[:3]]\n",
    "        return ' '.join(names)\n",
    "    except:\n",
    "        return ''\n",
    "\n",
    "def get_director(crew_str):\n",
    "    try:\n",
    "        crew = ast.literal_eval(crew_str)\n",
    "        for person in crew:\n",
    "            if person['job'] == 'Director':\n",
    "                return person['name']\n",
    "        return ''\n",
    "    except:\n",
    "        return ''\n"
   ]
  },
  {
   "cell_type": "code",
   "execution_count": 6,
   "id": "96d71234-bd1f-4c35-a494-3aca19abb1d2",
   "metadata": {},
   "outputs": [
    {
     "data": {
      "text/html": [
       "<div>\n",
       "<style scoped>\n",
       "    .dataframe tbody tr th:only-of-type {\n",
       "        vertical-align: middle;\n",
       "    }\n",
       "\n",
       "    .dataframe tbody tr th {\n",
       "        vertical-align: top;\n",
       "    }\n",
       "\n",
       "    .dataframe thead th {\n",
       "        text-align: right;\n",
       "    }\n",
       "</style>\n",
       "<table border=\"1\" class=\"dataframe\">\n",
       "  <thead>\n",
       "    <tr style=\"text-align: right;\">\n",
       "      <th></th>\n",
       "      <th>movie_id</th>\n",
       "      <th>title</th>\n",
       "      <th>tags</th>\n",
       "    </tr>\n",
       "  </thead>\n",
       "  <tbody>\n",
       "    <tr>\n",
       "      <th>0</th>\n",
       "      <td>19995</td>\n",
       "      <td>Avatar</td>\n",
       "      <td>Sam Worthington Zoe Saldana Sigourney Weaver J...</td>\n",
       "    </tr>\n",
       "    <tr>\n",
       "      <th>1</th>\n",
       "      <td>285</td>\n",
       "      <td>Pirates of the Caribbean: At World's End</td>\n",
       "      <td>Johnny Depp Orlando Bloom Keira Knightley Gore...</td>\n",
       "    </tr>\n",
       "    <tr>\n",
       "      <th>2</th>\n",
       "      <td>206647</td>\n",
       "      <td>Spectre</td>\n",
       "      <td>Daniel Craig Christoph Waltz Léa Seydoux Sam M...</td>\n",
       "    </tr>\n",
       "    <tr>\n",
       "      <th>3</th>\n",
       "      <td>49026</td>\n",
       "      <td>The Dark Knight Rises</td>\n",
       "      <td>Christian Bale Michael Caine Gary Oldman Chris...</td>\n",
       "    </tr>\n",
       "    <tr>\n",
       "      <th>4</th>\n",
       "      <td>49529</td>\n",
       "      <td>John Carter</td>\n",
       "      <td>Taylor Kitsch Lynn Collins Samantha Morton And...</td>\n",
       "    </tr>\n",
       "  </tbody>\n",
       "</table>\n",
       "</div>"
      ],
      "text/plain": [
       "   movie_id                                     title  \\\n",
       "0     19995                                    Avatar   \n",
       "1       285  Pirates of the Caribbean: At World's End   \n",
       "2    206647                                   Spectre   \n",
       "3     49026                     The Dark Knight Rises   \n",
       "4     49529                               John Carter   \n",
       "\n",
       "                                                tags  \n",
       "0  Sam Worthington Zoe Saldana Sigourney Weaver J...  \n",
       "1  Johnny Depp Orlando Bloom Keira Knightley Gore...  \n",
       "2  Daniel Craig Christoph Waltz Léa Seydoux Sam M...  \n",
       "3  Christian Bale Michael Caine Gary Oldman Chris...  \n",
       "4  Taylor Kitsch Lynn Collins Samantha Morton And...  "
      ]
     },
     "execution_count": 6,
     "metadata": {},
     "output_type": "execute_result"
    }
   ],
   "source": [
    "credits['top_cast'] = credits['cast'].apply(get_top_cast)\n",
    "credits['director'] = credits['crew'].apply(get_director)\n",
    "\n",
    "credits['tags'] = credits['top_cast'] + ' ' + credits['director']\n",
    "\n",
    "credits = credits[['movie_id', 'title', 'tags']]\n",
    "credits.head()\n"
   ]
  },
  {
   "cell_type": "code",
   "execution_count": 7,
   "id": "16f330ef-133b-4658-af4c-5b4f26bee9d9",
   "metadata": {},
   "outputs": [],
   "source": [
    "cv = CountVectorizer(max_features=5000, stop_words='english')\n",
    "vectors = cv.fit_transform(credits['tags']).toarray()\n",
    "\n",
    "similarity = cosine_similarity(vectors)\n"
   ]
  },
  {
   "cell_type": "code",
   "execution_count": 8,
   "id": "0b943fa1-25d6-4693-b9d8-6bc5dda6eb73",
   "metadata": {},
   "outputs": [],
   "source": [
    "def recommend(movie):\n",
    "    if movie not in credits['title'].values:\n",
    "        print(\" Movie not found!\")\n",
    "        return\n",
    "\n",
    "    index = credits[credits['title'] == movie].index[0]\n",
    "    distances = similarity[index]\n",
    "\n",
    "    movie_list = sorted(list(enumerate(distances)), reverse=True, key=lambda x: x[1])[1:6]\n",
    "\n",
    "    print(f\"\\n Top 5 recommendations for '{movie}':\\n\")\n",
    "    for i in movie_list:\n",
    "        print(credits.iloc[i[0]].title)\n"
   ]
  },
  {
   "cell_type": "code",
   "execution_count": 9,
   "id": "f30cf149-93d8-4e0b-821c-e01faa2d0044",
   "metadata": {},
   "outputs": [
    {
     "name": "stdout",
     "output_type": "stream",
     "text": [
      "\n",
      " Top 5 recommendations for 'Avatar':\n",
      "\n",
      "Aliens\n",
      "Guardians of the Galaxy\n",
      "Snow White: A Tale of Terror\n",
      "The Cold Light of Day\n",
      "Crossroads\n"
     ]
    }
   ],
   "source": [
    "recommend('Avatar')"
   ]
  },
  {
   "cell_type": "code",
   "execution_count": 10,
   "id": "139f6c0a-859c-4ff5-89a1-227f6d313391",
   "metadata": {},
   "outputs": [
    {
     "name": "stdout",
     "output_type": "stream",
     "text": [
      "\n",
      " Top 5 recommendations for 'The Avengers':\n",
      "\n",
      "Avengers: Age of Ultron\n",
      "Captain America: Civil War\n",
      "Zodiac\n",
      "The Judge\n",
      "What's Your Number?\n"
     ]
    }
   ],
   "source": [
    "recommend('The Avengers')"
   ]
  },
  {
   "cell_type": "code",
   "execution_count": 11,
   "id": "938eca42-892d-465b-93ea-95d3ad36cbb8",
   "metadata": {},
   "outputs": [
    {
     "name": "stdout",
     "output_type": "stream",
     "text": [
      "\n",
      " Top 5 recommendations for 'Iron Man':\n",
      "\n",
      "Iron Man 2\n",
      "Charlie Bartlett\n",
      "The Judge\n",
      "Made\n",
      "R.I.P.D.\n"
     ]
    }
   ],
   "source": [
    "recommend('Iron Man')"
   ]
  },
  {
   "cell_type": "code",
   "execution_count": null,
   "id": "bfa9cb43-0d27-4433-bffe-49605a838ea9",
   "metadata": {},
   "outputs": [],
   "source": []
  }
 ],
 "metadata": {
  "kernelspec": {
   "display_name": "Python 3 (ipykernel)",
   "language": "python",
   "name": "python3"
  },
  "language_info": {
   "codemirror_mode": {
    "name": "ipython",
    "version": 3
   },
   "file_extension": ".py",
   "mimetype": "text/x-python",
   "name": "python",
   "nbconvert_exporter": "python",
   "pygments_lexer": "ipython3",
   "version": "3.13.5"
  }
 },
 "nbformat": 4,
 "nbformat_minor": 5
}
